{
 "cells": [
  {
   "cell_type": "code",
   "execution_count": 5,
   "id": "88c1df69-9b36-4bf6-8f9d-92d784aa1a0e",
   "metadata": {},
   "outputs": [
    {
     "name": "stdout",
     "output_type": "stream",
     "text": [
      "          ds  최고기온  최저기온   일교차  강수량  평균습도  평균풍속  일조합       일사합        일조율  \\\n",
      "0 1960-01-01   2.2  -5.2   7.4  0.4  68.3   1.7  6.7  11.93317  48.653526   \n",
      "1 1960-01-02   1.2  -5.6   6.8  0.4  87.7   1.3  0.0  11.93317  48.653526   \n",
      "2 1960-01-03   8.7  -2.1  10.8  0.0  81.3   3.0  0.0  11.93317  48.653526   \n",
      "3 1960-01-04  10.8   1.2   9.6  0.0  79.7   4.4  2.6  11.93317  48.653526   \n",
      "4 1960-01-05   1.3  -8.2   9.5  0.0  44.0   5.1  8.2  11.93317  48.653526   \n",
      "\n",
      "     y  강수유무    일사일조비율    일사일조합계    일사일조차이  month  \n",
      "0 -1.6     1  1.781070  18.63317   5.23317      1  \n",
      "1 -1.9     1       inf  11.93317  11.93317      1  \n",
      "2  4.0     0       inf  11.93317  11.93317      1  \n",
      "3  7.5     0  4.589681  14.53317   9.33317      1  \n",
      "4 -4.6     0  1.455265  20.13317   3.73317      1  \n",
      "          ds  최고기온  최저기온   일교차  강수량  평균습도  평균풍속  일조합       일사합        일조율  \\\n",
      "0 1960-01-01   2.2  -5.2   7.4  0.4  68.3   1.7  6.7  11.93317  48.653526   \n",
      "1 1960-01-02   1.2  -5.6   6.8  0.4  87.7   1.3  0.0  11.93317  48.653526   \n",
      "2 1960-01-03   8.7  -2.1  10.8  0.0  81.3   3.0  0.0  11.93317  48.653526   \n",
      "3 1960-01-04  10.8   1.2   9.6  0.0  79.7   4.4  2.6  11.93317  48.653526   \n",
      "4 1960-01-05   1.3  -8.2   9.5  0.0  44.0   5.1  8.2  11.93317  48.653526   \n",
      "\n",
      "     y  강수유무    일사일조비율    일사일조합계    일사일조차이  month  \n",
      "0 -1.6     1  1.781070  18.63317   5.23317      1  \n",
      "1 -1.9     1       inf  11.93317  11.93317      1  \n",
      "2  4.0     0       inf  11.93317  11.93317      1  \n",
      "3  7.5     0  4.589681  14.53317   9.33317      1  \n",
      "4 -4.6     0  1.455265  20.13317   3.73317      1   \n",
      "\n",
      "              ds  최고기온  최저기온   일교차  강수량  평균습도  평균풍속  일조합    일사합   일조율    y  \\\n",
      "22646 2022-01-01   2.3 -10.2  12.5  0.3  46.3   1.5  9.0  10.39  93.8 -4.3   \n",
      "22647 2022-01-02   3.0  -5.2   8.2  0.3  57.9   2.3  5.4   8.52  56.3 -1.3   \n",
      "22648 2022-01-03   2.5  -8.0  10.5  0.0  58.3   1.8  7.8   9.35  80.4 -1.9   \n",
      "22649 2022-01-04   1.0  -5.6   6.6  0.0  51.8   2.4  9.0  11.30  92.8 -2.5   \n",
      "22650 2022-01-05   1.9  -7.8   9.7  0.0  47.6   1.7  1.9   6.12  19.6 -2.8   \n",
      "\n",
      "       강수유무    일사일조비율  일사일조합계  일사일조차이  month  \n",
      "22646     1  1.154444   19.39    1.39      1  \n",
      "22647     1  1.577778   13.92    3.12      1  \n",
      "22648     0  1.198718   17.15    1.55      1  \n",
      "22649     0  1.255556   20.30    2.30      1  \n",
      "22650     0  3.221053    8.02    4.22      1  \n"
     ]
    },
    {
     "name": "stderr",
     "output_type": "stream",
     "text": [
      "/tmp/ipykernel_21784/591009388.py:19: FutureWarning: DataFrame.mean and DataFrame.median with numeric_only=None will include datetime64 and datetime64tz columns in a future version.\n",
      "  df = df.fillna(df.mean())\n"
     ]
    }
   ],
   "source": [
    "from prophet import Prophet\n",
    "import pandas as pd\n",
    "from sklearn.metrics import mean_absolute_error\n",
    "\n",
    "df = pd.read_csv('./data/train.csv')\n",
    "\n",
    "df['일시'] = pd.to_datetime(df['일시'])\n",
    "df = df.set_index('일시')\n",
    "df.index.freq = 'D'\n",
    "df = df.reset_index()\n",
    "df = df.rename(columns={'일시': 'ds', '평균기온': 'y'})\n",
    "\n",
    "\n",
    "# df['최고기온'].fillna(method='bfill', inplace=True) \n",
    "# df['최저기온'].fillna(method='bfill', inplace=True)\n",
    "# df['일교차'].fillna(method='bfill', inplace=True)\n",
    "df['강수량'].fillna(method='bfill', inplace=True)\n",
    "# df['평균풍속'].fillna(method='bfill', inplace=True)\n",
    "df = df.fillna(df.mean())\n",
    "\n",
    "df['강수유무'] = (df['강수량'] > 0).astype(int)\n",
    "df['일사일조비율'] = df['일사합'] / df['일조합']\n",
    "df['일사일조합계'] = df['일사합'] + df['일조합']\n",
    "df['일사일조차이'] = df['일사합'] - df['일조합']\n",
    "#columns_to_keep = ['ds', '최고기온', '최저기온', '일사일조차이', 'y']\n",
    "#df = df[columns_to_keep]\n",
    "\n",
    "data = df.copy()\n",
    "data['month'] = data['ds'].dt.month\n",
    "vaild_data = data[data['ds'].dt.year.isin([2022])]\n",
    "train_data = data[data['ds'].dt.year.isin(range(1960,2021))]\n",
    "\n",
    "print(data.head())\n",
    "\n",
    "print(train_data.head(), '\\n')\n",
    "print(vaild_data.head())\n",
    "\n"
   ]
  },
  {
   "cell_type": "code",
   "execution_count": 6,
   "id": "896ce9d0-98d6-4c97-b0aa-9977ebd38f78",
   "metadata": {},
   "outputs": [
    {
     "name": "stderr",
     "output_type": "stream",
     "text": [
      "03:52:59 - cmdstanpy - INFO - Chain [1] start processing\n",
      "03:53:00 - cmdstanpy - INFO - Chain [1] done processing\n"
     ]
    },
    {
     "name": "stdout",
     "output_type": "stream",
     "text": [
      "\n",
      "hyper parameter :  {'growth': 'linear', 'changepoint_prior_scale': 0.01, 'changepoint_range': 0.8, 'seasonality_prior_scale': 12.0, 'seasonality_mode': 'additive', 'n_changepoints': 25, 'yearly_seasonality': 15} \n",
      "mae :  2.481296748381046 \n",
      "\n",
      "\n"
     ]
    },
    {
     "name": "stderr",
     "output_type": "stream",
     "text": [
      "03:53:02 - cmdstanpy - INFO - Chain [1] start processing\n",
      "03:53:11 - cmdstanpy - INFO - Chain [1] done processing\n",
      "03:53:14 - cmdstanpy - INFO - Chain [1] start processing\n",
      "03:53:49 - cmdstanpy - INFO - Chain [1] done processing\n",
      "03:53:51 - cmdstanpy - INFO - Chain [1] start processing\n",
      "03:53:53 - cmdstanpy - INFO - Chain [1] done processing\n"
     ]
    },
    {
     "name": "stdout",
     "output_type": "stream",
     "text": [
      "\n",
      "hyper parameter :  {'growth': 'linear', 'changepoint_prior_scale': 0.01, 'changepoint_range': 0.8, 'seasonality_prior_scale': 15.0, 'seasonality_mode': 'additive', 'n_changepoints': 25, 'yearly_seasonality': 15} \n",
      "mae :  2.4801413389779556 \n",
      "\n",
      "\n"
     ]
    },
    {
     "name": "stderr",
     "output_type": "stream",
     "text": [
      "03:53:55 - cmdstanpy - INFO - Chain [1] start processing\n",
      "03:53:58 - cmdstanpy - INFO - Chain [1] done processing\n",
      "03:54:00 - cmdstanpy - INFO - Chain [1] start processing\n",
      "03:54:20 - cmdstanpy - INFO - Chain [1] done processing\n",
      "03:54:22 - cmdstanpy - INFO - Chain [1] start processing\n",
      "03:54:23 - cmdstanpy - INFO - Chain [1] done processing\n"
     ]
    },
    {
     "name": "stdout",
     "output_type": "stream",
     "text": [
      "\n",
      "hyper parameter :  {'growth': 'linear', 'changepoint_prior_scale': 0.01, 'changepoint_range': 0.9, 'seasonality_prior_scale': 12.0, 'seasonality_mode': 'additive', 'n_changepoints': 25, 'yearly_seasonality': 15} \n",
      "mae :  2.472130594381978 \n",
      "\n",
      "\n"
     ]
    },
    {
     "name": "stderr",
     "output_type": "stream",
     "text": [
      "03:54:26 - cmdstanpy - INFO - Chain [1] start processing\n",
      "03:54:32 - cmdstanpy - INFO - Chain [1] done processing\n"
     ]
    },
    {
     "name": "stdout",
     "output_type": "stream",
     "text": [
      "\n",
      "hyper parameter :  {'growth': 'linear', 'changepoint_prior_scale': 0.01, 'changepoint_range': 0.9, 'seasonality_prior_scale': 12.0, 'seasonality_mode': 'additive', 'n_changepoints': 248, 'yearly_seasonality': 15} \n",
      "mae :  2.471044448488378 \n",
      "\n",
      "\n"
     ]
    },
    {
     "name": "stderr",
     "output_type": "stream",
     "text": [
      "03:54:34 - cmdstanpy - INFO - Chain [1] start processing\n",
      "03:55:37 - cmdstanpy - INFO - Chain [1] done processing\n"
     ]
    },
    {
     "name": "stdout",
     "output_type": "stream",
     "text": [
      "\n",
      "hyper parameter :  {'growth': 'linear', 'changepoint_prior_scale': 0.01, 'changepoint_range': 0.9, 'seasonality_prior_scale': 12.0, 'seasonality_mode': 'additive', 'n_changepoints': 744, 'yearly_seasonality': 15} \n",
      "mae :  2.4705015699354025 \n",
      "\n",
      "\n"
     ]
    },
    {
     "name": "stderr",
     "output_type": "stream",
     "text": [
      "03:55:39 - cmdstanpy - INFO - Chain [1] start processing\n",
      "03:55:40 - cmdstanpy - INFO - Chain [1] done processing\n",
      "03:55:42 - cmdstanpy - INFO - Chain [1] start processing\n",
      "03:55:49 - cmdstanpy - INFO - Chain [1] done processing\n",
      "03:55:51 - cmdstanpy - INFO - Chain [1] start processing\n",
      "03:56:45 - cmdstanpy - INFO - Chain [1] done processing\n",
      "03:56:48 - cmdstanpy - INFO - Chain [1] start processing\n",
      "03:56:49 - cmdstanpy - INFO - Chain [1] done processing\n",
      "03:56:51 - cmdstanpy - INFO - Chain [1] start processing\n",
      "03:56:56 - cmdstanpy - INFO - Chain [1] done processing\n",
      "03:56:58 - cmdstanpy - INFO - Chain [1] start processing\n",
      "03:57:36 - cmdstanpy - INFO - Chain [1] done processing\n",
      "03:57:38 - cmdstanpy - INFO - Chain [1] start processing\n",
      "03:57:39 - cmdstanpy - INFO - Chain [1] done processing\n",
      "03:57:41 - cmdstanpy - INFO - Chain [1] start processing\n",
      "03:57:49 - cmdstanpy - INFO - Chain [1] done processing\n",
      "03:57:52 - cmdstanpy - INFO - Chain [1] start processing\n",
      "03:58:35 - cmdstanpy - INFO - Chain [1] done processing\n"
     ]
    },
    {
     "name": "stdout",
     "output_type": "stream",
     "text": [
      "\n",
      "hyper parameter :  {'growth': 'linear', 'changepoint_prior_scale': 0.01, 'changepoint_range': 0.95, 'seasonality_prior_scale': 15.0, 'seasonality_mode': 'additive', 'n_changepoints': 744, 'yearly_seasonality': 15} \n",
      "mae :  2.470424215276023 \n",
      "\n",
      "\n"
     ]
    },
    {
     "name": "stderr",
     "output_type": "stream",
     "text": [
      "03:58:37 - cmdstanpy - INFO - Chain [1] start processing\n",
      "03:58:39 - cmdstanpy - INFO - Chain [1] done processing\n"
     ]
    },
    {
     "name": "stdout",
     "output_type": "stream",
     "text": [
      "\n",
      "hyper parameter :  {'growth': 'linear', 'changepoint_prior_scale': 0.03, 'changepoint_range': 0.8, 'seasonality_prior_scale': 12.0, 'seasonality_mode': 'additive', 'n_changepoints': 25, 'yearly_seasonality': 15} \n",
      "mae :  2.4669489677216645 \n",
      "\n",
      "\n"
     ]
    },
    {
     "name": "stderr",
     "output_type": "stream",
     "text": [
      "03:58:41 - cmdstanpy - INFO - Chain [1] start processing\n",
      "03:58:46 - cmdstanpy - INFO - Chain [1] done processing\n",
      "03:58:49 - cmdstanpy - INFO - Chain [1] start processing\n",
      "03:59:21 - cmdstanpy - INFO - Chain [1] done processing\n"
     ]
    },
    {
     "name": "stdout",
     "output_type": "stream",
     "text": [
      "\n",
      "hyper parameter :  {'growth': 'linear', 'changepoint_prior_scale': 0.03, 'changepoint_range': 0.8, 'seasonality_prior_scale': 12.0, 'seasonality_mode': 'additive', 'n_changepoints': 744, 'yearly_seasonality': 15} \n",
      "mae :  2.466586701002489 \n",
      "\n",
      "\n"
     ]
    },
    {
     "name": "stderr",
     "output_type": "stream",
     "text": [
      "03:59:23 - cmdstanpy - INFO - Chain [1] start processing\n",
      "03:59:25 - cmdstanpy - INFO - Chain [1] done processing\n"
     ]
    },
    {
     "name": "stdout",
     "output_type": "stream",
     "text": [
      "\n",
      "hyper parameter :  {'growth': 'linear', 'changepoint_prior_scale': 0.03, 'changepoint_range': 0.8, 'seasonality_prior_scale': 15.0, 'seasonality_mode': 'additive', 'n_changepoints': 25, 'yearly_seasonality': 15} \n",
      "mae :  2.465660920562894 \n",
      "\n",
      "\n"
     ]
    },
    {
     "name": "stderr",
     "output_type": "stream",
     "text": [
      "03:59:27 - cmdstanpy - INFO - Chain [1] start processing\n",
      "03:59:36 - cmdstanpy - INFO - Chain [1] done processing\n",
      "03:59:39 - cmdstanpy - INFO - Chain [1] start processing\n",
      "04:00:17 - cmdstanpy - INFO - Chain [1] done processing\n",
      "04:00:20 - cmdstanpy - INFO - Chain [1] start processing\n",
      "04:00:21 - cmdstanpy - INFO - Chain [1] done processing\n"
     ]
    },
    {
     "name": "stdout",
     "output_type": "stream",
     "text": [
      "\n",
      "hyper parameter :  {'growth': 'linear', 'changepoint_prior_scale': 0.03, 'changepoint_range': 0.9, 'seasonality_prior_scale': 12.0, 'seasonality_mode': 'additive', 'n_changepoints': 25, 'yearly_seasonality': 15} \n",
      "mae :  2.458005948570432 \n",
      "\n",
      "\n"
     ]
    },
    {
     "name": "stderr",
     "output_type": "stream",
     "text": [
      "04:00:23 - cmdstanpy - INFO - Chain [1] start processing\n",
      "04:00:33 - cmdstanpy - INFO - Chain [1] done processing\n"
     ]
    },
    {
     "name": "stdout",
     "output_type": "stream",
     "text": [
      "\n",
      "hyper parameter :  {'growth': 'linear', 'changepoint_prior_scale': 0.03, 'changepoint_range': 0.9, 'seasonality_prior_scale': 12.0, 'seasonality_mode': 'additive', 'n_changepoints': 248, 'yearly_seasonality': 15} \n",
      "mae :  2.4579163704773817 \n",
      "\n",
      "\n"
     ]
    },
    {
     "name": "stderr",
     "output_type": "stream",
     "text": [
      "04:00:35 - cmdstanpy - INFO - Chain [1] start processing\n",
      "04:01:05 - cmdstanpy - INFO - Chain [1] done processing\n"
     ]
    },
    {
     "name": "stdout",
     "output_type": "stream",
     "text": [
      "\n",
      "hyper parameter :  {'growth': 'linear', 'changepoint_prior_scale': 0.03, 'changepoint_range': 0.9, 'seasonality_prior_scale': 12.0, 'seasonality_mode': 'additive', 'n_changepoints': 744, 'yearly_seasonality': 15} \n",
      "mae :  2.4579142143579844 \n",
      "\n",
      "\n"
     ]
    },
    {
     "name": "stderr",
     "output_type": "stream",
     "text": [
      "04:01:08 - cmdstanpy - INFO - Chain [1] start processing\n",
      "04:01:09 - cmdstanpy - INFO - Chain [1] done processing\n",
      "04:01:11 - cmdstanpy - INFO - Chain [1] start processing\n",
      "04:01:17 - cmdstanpy - INFO - Chain [1] done processing\n",
      "04:01:19 - cmdstanpy - INFO - Chain [1] start processing\n",
      "04:01:48 - cmdstanpy - INFO - Chain [1] done processing\n",
      "04:01:50 - cmdstanpy - INFO - Chain [1] start processing\n",
      "04:01:51 - cmdstanpy - INFO - Chain [1] done processing\n",
      "04:01:54 - cmdstanpy - INFO - Chain [1] start processing\n",
      "04:02:00 - cmdstanpy - INFO - Chain [1] done processing\n",
      "04:02:03 - cmdstanpy - INFO - Chain [1] start processing\n",
      "04:02:24 - cmdstanpy - INFO - Chain [1] done processing\n",
      "04:02:27 - cmdstanpy - INFO - Chain [1] start processing\n",
      "04:02:28 - cmdstanpy - INFO - Chain [1] done processing\n",
      "04:02:30 - cmdstanpy - INFO - Chain [1] start processing\n",
      "04:02:37 - cmdstanpy - INFO - Chain [1] done processing\n",
      "04:02:39 - cmdstanpy - INFO - Chain [1] start processing\n",
      "04:03:20 - cmdstanpy - INFO - Chain [1] done processing\n"
     ]
    },
    {
     "name": "stdout",
     "output_type": "stream",
     "text": [
      "\n",
      "hyper parameter :  {'growth': 'linear', 'changepoint_prior_scale': 0.03, 'changepoint_range': 0.95, 'seasonality_prior_scale': 15.0, 'seasonality_mode': 'additive', 'n_changepoints': 744, 'yearly_seasonality': 15} \n",
      "mae :  2.457909199400067 \n",
      "\n",
      "\n"
     ]
    },
    {
     "name": "stderr",
     "output_type": "stream",
     "text": [
      "04:03:22 - cmdstanpy - INFO - Chain [1] start processing\n",
      "04:03:26 - cmdstanpy - INFO - Chain [1] done processing\n",
      "04:03:29 - cmdstanpy - INFO - Chain [1] start processing\n",
      "04:04:13 - cmdstanpy - INFO - Chain [1] done processing\n"
     ]
    },
    {
     "name": "stdout",
     "output_type": "stream",
     "text": [
      "\n",
      "hyper parameter :  {'growth': 'linear', 'changepoint_prior_scale': 0.8, 'changepoint_range': 0.8, 'seasonality_prior_scale': 12.0, 'seasonality_mode': 'additive', 'n_changepoints': 248, 'yearly_seasonality': 15} \n",
      "mae :  2.45761713272881 \n",
      "\n",
      "\n"
     ]
    },
    {
     "name": "stderr",
     "output_type": "stream",
     "text": [
      "04:04:15 - cmdstanpy - INFO - Chain [1] start processing\n",
      "04:06:11 - cmdstanpy - INFO - Chain [1] done processing\n",
      "04:06:13 - cmdstanpy - INFO - Chain [1] start processing\n",
      "04:06:17 - cmdstanpy - INFO - Chain [1] done processing\n",
      "04:06:19 - cmdstanpy - INFO - Chain [1] start processing\n",
      "04:07:13 - cmdstanpy - INFO - Chain [1] done processing\n",
      "04:07:15 - cmdstanpy - INFO - Chain [1] start processing\n",
      "04:08:33 - cmdstanpy - INFO - Chain [1] done processing\n",
      "04:08:35 - cmdstanpy - INFO - Chain [1] start processing\n",
      "04:08:39 - cmdstanpy - INFO - Chain [1] done processing\n",
      "04:08:41 - cmdstanpy - INFO - Chain [1] start processing\n",
      "04:09:22 - cmdstanpy - INFO - Chain [1] done processing\n",
      "04:09:24 - cmdstanpy - INFO - Chain [1] start processing\n",
      "04:11:31 - cmdstanpy - INFO - Chain [1] done processing\n",
      "04:11:33 - cmdstanpy - INFO - Chain [1] start processing\n",
      "04:11:37 - cmdstanpy - INFO - Chain [1] done processing\n",
      "04:11:40 - cmdstanpy - INFO - Chain [1] start processing\n",
      "04:12:29 - cmdstanpy - INFO - Chain [1] done processing\n",
      "04:12:31 - cmdstanpy - INFO - Chain [1] start processing\n",
      "04:14:39 - cmdstanpy - INFO - Chain [1] done processing\n",
      "04:14:41 - cmdstanpy - INFO - Chain [1] start processing\n",
      "04:14:46 - cmdstanpy - INFO - Chain [1] done processing\n",
      "04:14:48 - cmdstanpy - INFO - Chain [1] start processing\n",
      "04:15:31 - cmdstanpy - INFO - Chain [1] done processing\n",
      "04:15:33 - cmdstanpy - INFO - Chain [1] start processing\n",
      "04:17:09 - cmdstanpy - INFO - Chain [1] done processing\n",
      "04:17:11 - cmdstanpy - INFO - Chain [1] start processing\n",
      "04:17:16 - cmdstanpy - INFO - Chain [1] done processing\n",
      "04:17:18 - cmdstanpy - INFO - Chain [1] start processing\n",
      "04:17:56 - cmdstanpy - INFO - Chain [1] done processing\n",
      "04:17:58 - cmdstanpy - INFO - Chain [1] start processing\n",
      "04:19:53 - cmdstanpy - INFO - Chain [1] done processing\n"
     ]
    }
   ],
   "source": [
    "import itertools\n",
    "\n",
    "\n",
    "param_grid = {\n",
    "    'growth': ['linear'],\n",
    "    'changepoint_prior_scale' : [0.01, 0.03, 0.8],\n",
    "    'changepoint_range' : [0.8, 0.9, 0.95],\n",
    "    'seasonality_prior_scale': [12.0, 15.0],\n",
    "    'seasonality_mode': ['additive'],\n",
    "    'n_changepoints' : [25, 248, 744],\n",
    "    'yearly_seasonality' : [15]\n",
    "}\n",
    "vaild_size = int(len(vaild_data))\n",
    "\n",
    "param_grid = [dict(zip(param_grid.keys(), v)) for v in itertools.product(*param_grid.values())]\n",
    "\n",
    "best = 10000\n",
    "mlist = []\n",
    "\n",
    "def get_MAE(model) :\n",
    "  future_data = model.make_future_dataframe(periods = vaild_size, freq = 'd')\n",
    "  forecast_data = model.predict(future_data)\n",
    "  mae = mean_absolute_error(vaild_data.y, forecast_data.yhat[-vaild_size:].values)\n",
    "  return mae\n",
    "\n",
    "def is_best(m) :\n",
    "    global best\n",
    "    if(best > m) :\n",
    "        best = m\n",
    "        return True\n",
    "    else :\n",
    "        return False\n",
    "\n",
    "\n",
    "for params in param_grid :\n",
    "  model = Prophet(**params).add_seasonality(name='season', period=90, fourier_order=6)\n",
    "  model.fit(train_data)\n",
    "  m = get_MAE(model)\n",
    "  if(is_best(m)) :\n",
    "      print('\\nhyper parameter : ',params,'\\nmae : ',m,'\\n\\n')\n"
   ]
  },
  {
   "cell_type": "code",
   "execution_count": 9,
   "id": "026e5d51-9656-4fc8-ada3-92b937c2f3ba",
   "metadata": {},
   "outputs": [
    {
     "name": "stderr",
     "output_type": "stream",
     "text": [
      "04:40:09 - cmdstanpy - INFO - Chain [1] start processing\n",
      "04:41:52 - cmdstanpy - INFO - Chain [1] done processing\n"
     ]
    },
    {
     "name": "stdout",
     "output_type": "stream",
     "text": [
      "              ds      yhat\n",
      "23364 2023-12-20  0.565680\n",
      "23365 2023-12-21  0.493538\n",
      "23366 2023-12-22  0.398061\n",
      "23367 2023-12-23  0.366494\n",
      "23368 2023-12-24  0.203767\n"
     ]
    }
   ],
   "source": [
    "best_model = Prophet(growth = 'linear',\n",
    "                changepoint_prior_scale = 0.8,\n",
    "                changepoint_range = 0.8,\n",
    "                seasonality_prior_scale = 12.0,\n",
    "                yearly_seasonality = 15,\n",
    "                n_changepoints = 744,\n",
    "                seasonality_mode = 'additive').add_seasonality(name = 'season', period = 90, fourier_order=6)\n",
    "best_model.fit(data)\n",
    "submission_df = pd.read_csv('./data/sample_submission.csv')\n",
    "\n",
    "\n",
    "\n",
    "future_data = best_model.make_future_dataframe(periods = 358, freq = 'd')\n",
    "forecast_data = best_model.predict(future_data)\n",
    "print(forecast_data[['ds','yhat']].tail(5))\n",
    "submission_df['평균기온'] = forecast_data.yhat[-358:].values\n",
    "submission_df\n",
    "submission_df.to_csv(\"test22.csv\", index=False)"
   ]
  }
 ],
 "metadata": {
  "kernelspec": {
   "display_name": "Python 3 (ipykernel)",
   "language": "python",
   "name": "python3"
  },
  "language_info": {
   "codemirror_mode": {
    "name": "ipython",
    "version": 3
   },
   "file_extension": ".py",
   "mimetype": "text/x-python",
   "name": "python",
   "nbconvert_exporter": "python",
   "pygments_lexer": "ipython3",
   "version": "3.10.13"
  }
 },
 "nbformat": 4,
 "nbformat_minor": 5
}
